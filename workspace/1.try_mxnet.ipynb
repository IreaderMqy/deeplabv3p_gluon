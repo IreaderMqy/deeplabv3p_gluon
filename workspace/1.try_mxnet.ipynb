{
 "cells": [
  {
   "cell_type": "code",
   "execution_count": 1,
   "metadata": {},
   "outputs": [
    {
     "name": "stderr",
     "output_type": "stream",
     "text": [
      "/home/jiancheng/anaconda3/lib/python3.6/site-packages/urllib3/contrib/pyopenssl.py:46: DeprecationWarning: OpenSSL.rand is deprecated - you should use os.urandom instead\n",
      "  import OpenSSL.SSL\n"
     ]
    }
   ],
   "source": [
    "from mxnet import gluon"
   ]
  },
  {
   "cell_type": "code",
   "execution_count": 2,
   "metadata": {
    "collapsed": true
   },
   "outputs": [],
   "source": [
    "import mxnet as mx\n",
    "from mxnet import gluon\n",
    "from mxnet.gluon import nn          \n",
    "\n",
    "mx.random.seed(42)"
   ]
  },
  {
   "cell_type": "code",
   "execution_count": 3,
   "metadata": {
    "collapsed": true
   },
   "outputs": [],
   "source": [
    "from mxnet import ndarray as nd"
   ]
  },
  {
   "cell_type": "code",
   "execution_count": 4,
   "metadata": {
    "collapsed": true
   },
   "outputs": [],
   "source": [
    "class Net(gluon.HybridBlock):\n",
    "    def __init__(self, **kwargs):\n",
    "        super(Net, self).__init__(**kwargs)\n",
    "        with self.name_scope():\n",
    "            # layers created in name_scope will inherit name space\n",
    "            # from parent layer.\n",
    "            self.conv1 = nn.Conv2D(6, kernel_size=5)\n",
    "            self.pool1 = nn.MaxPool2D(pool_size=2)\n",
    "            self.conv2 = nn.Conv2D(16, kernel_size=5)\n",
    "            self.pool2 = nn.MaxPool2D(pool_size=2)\n",
    "            self.fc1 = nn.Dense(120)\n",
    "            self.fc2 = nn.Dense(84)\n",
    "            # You can use a Dense layer for fc3 but we do dot product manually\n",
    "            # here for illustration purposes.\n",
    "            self.fc3_weight = self.params.get('fc3_weight', shape=(10, 84))\n",
    "\n",
    "    def hybrid_forward(self, F, x, fc3_weight):\n",
    "        # Here `F` can be either mx.nd or mx.sym, x is the input data,\n",
    "        # and fc3_weight is either self.fc3_weight.data() or\n",
    "        # self.fc3_weight.var() depending on whether x is Symbol or NDArray\n",
    "        print(x)\n",
    "        x = self.pool1(F.relu(self.conv1(x)))\n",
    "        x = self.pool2(F.relu(self.conv2(x)))\n",
    "        # 0 means copy over size from corresponding dimension.\n",
    "        # -1 means infer size from the rest of dimensions.\n",
    "        x = x.reshape((0, -1))\n",
    "        x = F.relu(self.fc1(x))\n",
    "        x = F.relu(self.fc2(x))\n",
    "        x = F.dot(x, fc3_weight, transpose_b=True)\n",
    "        return x"
   ]
  },
  {
   "cell_type": "code",
   "execution_count": 5,
   "metadata": {},
   "outputs": [],
   "source": [
    "net = Net()"
   ]
  },
  {
   "cell_type": "code",
   "execution_count": 6,
   "metadata": {},
   "outputs": [
    {
     "data": {
      "text/plain": [
       "Net(\n",
       "  (conv1): Conv2D(None -> 6, kernel_size=(5, 5), stride=(1, 1))\n",
       "  (pool1): MaxPool2D(size=(2, 2), stride=(2, 2), padding=(0, 0), ceil_mode=False)\n",
       "  (conv2): Conv2D(None -> 16, kernel_size=(5, 5), stride=(1, 1))\n",
       "  (pool2): MaxPool2D(size=(2, 2), stride=(2, 2), padding=(0, 0), ceil_mode=False)\n",
       "  (fc1): Dense(None -> 120, linear)\n",
       "  (fc2): Dense(None -> 84, linear)\n",
       ")"
      ]
     },
     "execution_count": 6,
     "metadata": {},
     "output_type": "execute_result"
    }
   ],
   "source": [
    "net"
   ]
  },
  {
   "cell_type": "code",
   "execution_count": 7,
   "metadata": {
    "scrolled": true
   },
   "outputs": [
    {
     "ename": "AttributeError",
     "evalue": "'int' object has no attribute 'shape'",
     "output_type": "error",
     "traceback": [
      "\u001b[0;31m---------------------------------------------------------------------------\u001b[0m",
      "\u001b[0;31mAttributeError\u001b[0m                            Traceback (most recent call last)",
      "\u001b[0;32m<ipython-input-7-3175eb7067f1>\u001b[0m in \u001b[0;36m<module>\u001b[0;34m()\u001b[0m\n\u001b[0;32m----> 1\u001b[0;31m \u001b[0mnet\u001b[0m\u001b[0;34m.\u001b[0m\u001b[0mconv1\u001b[0m\u001b[0;34m.\u001b[0m\u001b[0mweight\u001b[0m\u001b[0;34m.\u001b[0m\u001b[0mset_data\u001b[0m\u001b[0;34m(\u001b[0m\u001b[0;36m0\u001b[0m\u001b[0;34m)\u001b[0m\u001b[0;34m\u001b[0m\u001b[0m\n\u001b[0m",
      "\u001b[0;32m~/anaconda3/lib/python3.6/site-packages/mxnet/gluon/parameter.py\u001b[0m in \u001b[0;36mset_data\u001b[0;34m(self, data)\u001b[0m\n\u001b[1;32m    373\u001b[0m     \u001b[0;32mdef\u001b[0m \u001b[0mset_data\u001b[0m\u001b[0;34m(\u001b[0m\u001b[0mself\u001b[0m\u001b[0;34m,\u001b[0m \u001b[0mdata\u001b[0m\u001b[0;34m)\u001b[0m\u001b[0;34m:\u001b[0m\u001b[0;34m\u001b[0m\u001b[0m\n\u001b[1;32m    374\u001b[0m         \u001b[0;34m\"\"\"Sets this parameter's value on all contexts.\"\"\"\u001b[0m\u001b[0;34m\u001b[0m\u001b[0m\n\u001b[0;32m--> 375\u001b[0;31m         \u001b[0mself\u001b[0m\u001b[0;34m.\u001b[0m\u001b[0mshape\u001b[0m \u001b[0;34m=\u001b[0m \u001b[0mdata\u001b[0m\u001b[0;34m.\u001b[0m\u001b[0mshape\u001b[0m\u001b[0;34m\u001b[0m\u001b[0m\n\u001b[0m\u001b[1;32m    376\u001b[0m \u001b[0;34m\u001b[0m\u001b[0m\n\u001b[1;32m    377\u001b[0m         \u001b[0;32mif\u001b[0m \u001b[0mself\u001b[0m\u001b[0;34m.\u001b[0m\u001b[0m_data\u001b[0m \u001b[0;32mis\u001b[0m \u001b[0;32mNone\u001b[0m\u001b[0;34m:\u001b[0m\u001b[0;34m\u001b[0m\u001b[0m\n",
      "\u001b[0;31mAttributeError\u001b[0m: 'int' object has no attribute 'shape'"
     ]
    }
   ],
   "source": [
    "net.conv1.weight.set_data(0)"
   ]
  },
  {
   "cell_type": "code",
   "execution_count": null,
   "metadata": {},
   "outputs": [],
   "source": [
    "net."
   ]
  },
  {
   "cell_type": "code",
   "execution_count": null,
   "metadata": {
    "scrolled": true
   },
   "outputs": [],
   "source": [
    "net.initialize()\n",
    "x = mx.nd.random_normal(shape=(16, 1, 28, 28))\n",
    "net(x)\n",
    "x = mx.nd.random_normal(shape=(16, 1, 28, 28))\n",
    "net(x)"
   ]
  },
  {
   "cell_type": "code",
   "execution_count": null,
   "metadata": {
    "collapsed": true
   },
   "outputs": [],
   "source": [
    "relu6 = lambda x: nd.clip(x, a_min=0, a_max=6)"
   ]
  },
  {
   "cell_type": "code",
   "execution_count": null,
   "metadata": {
    "collapsed": true
   },
   "outputs": [],
   "source": [
    "x = nd.random_normal(shape=(3,2))"
   ]
  },
  {
   "cell_type": "code",
   "execution_count": null,
   "metadata": {},
   "outputs": [],
   "source": [
    "x"
   ]
  },
  {
   "cell_type": "code",
   "execution_count": null,
   "metadata": {
    "scrolled": true
   },
   "outputs": [],
   "source": [
    "relu6(x*10)"
   ]
  },
  {
   "cell_type": "code",
   "execution_count": null,
   "metadata": {
    "collapsed": true
   },
   "outputs": [],
   "source": []
  },
  {
   "cell_type": "code",
   "execution_count": null,
   "metadata": {
    "scrolled": true
   },
   "outputs": [],
   "source": [
    "net.hybridize()\n",
    "x = mx.nd.random_normal(shape=(16, 1, 28, 28))\n",
    "net(x)\n",
    "x = mx.nd.random_normal(shape=(16, 1, 28, 28))\n",
    "net(x)"
   ]
  },
  {
   "cell_type": "code",
   "execution_count": 2,
   "metadata": {},
   "outputs": [
    {
     "name": "stderr",
     "output_type": "stream",
     "text": [
      "/home/jiancheng/anaconda3/lib/python3.6/site-packages/urllib3/contrib/pyopenssl.py:46: DeprecationWarning: OpenSSL.rand is deprecated - you should use os.urandom instead\n",
      "  import OpenSSL.SSL\n"
     ]
    }
   ],
   "source": [
    "import mxnet as mx\n",
    "import mxnet.ndarray as nd"
   ]
  },
  {
   "cell_type": "code",
   "execution_count": 3,
   "metadata": {},
   "outputs": [],
   "source": [
    "xx = nd.random_normal(shape=[1,1,256,256],ctx=mx.cpu(0)) ###(NCHW)"
   ]
  },
  {
   "cell_type": "code",
   "execution_count": 5,
   "metadata": {},
   "outputs": [
    {
     "data": {
      "text/plain": [
       "\n",
       "[[[[ 2.21220636  0.7740038   1.04344046 ...,  0.0445937   0.84060693\n",
       "    -1.31955361]\n",
       "   [-1.27275753  0.77353251  0.80073208 ..., -0.10102315 -0.90841246\n",
       "     0.79690021]\n",
       "   [-0.31555808  1.33927357 -0.42707378 ..., -1.81871653 -1.20482492\n",
       "     0.66442448]\n",
       "   ..., \n",
       "   [-0.08557656  0.64929408  0.8482523  ...,  0.5887534   0.01620952\n",
       "    -0.75417274]\n",
       "   [ 0.38986197  0.93016851 -0.70274305 ...,  1.11627901 -1.61089981\n",
       "    -0.12840353]\n",
       "   [ 0.42641723  0.4359569   0.29812479 ...,  0.8841725   1.73456585\n",
       "     0.03862567]]]]\n",
       "<NDArray 1x1x256x256 @cpu(0)>"
      ]
     },
     "execution_count": 5,
     "metadata": {},
     "output_type": "execute_result"
    }
   ],
   "source": [
    "xx"
   ]
  },
  {
   "cell_type": "code",
   "execution_count": 11,
   "metadata": {
    "collapsed": true
   },
   "outputs": [],
   "source": [
    "?mx.nd.contrib.BilinearResize2D"
   ]
  },
  {
   "cell_type": "code",
   "execution_count": 14,
   "metadata": {},
   "outputs": [],
   "source": [
    "import mxnet as mx\n",
    "x1 = nd.random_normal(shape=(2,3,4,4))\n",
    "y1 = mx.nd.contrib.BilinearResize2D(x1, height=5, width=5)"
   ]
  },
  {
   "cell_type": "code",
   "execution_count": 15,
   "metadata": {},
   "outputs": [
    {
     "data": {
      "text/plain": [
       "\n",
       "[[[[ 0.60878229  1.0741756   0.06642842  0.84869862]\n",
       "   [-0.80038017 -0.16882208  0.93632793  0.35744399]\n",
       "   [ 0.77932847 -1.01030731 -0.39157307  1.31661868]\n",
       "   [-0.43292624  0.71535987  0.92541558 -0.90495086]]\n",
       "\n",
       "  [[-0.074684    0.82253999 -1.87851071  0.88588363]\n",
       "   [ 1.91187239  0.33342266  0.11883813 -1.91988993]\n",
       "   [-0.67558455  1.00774896 -0.35391203  1.63239169]\n",
       "   [-0.33354783 -1.73784053  0.77373821  0.89126545]]\n",
       "\n",
       "  [[ 3.2904532  -1.19762349  1.8938874  -0.56692719]\n",
       "   [-0.02392192  1.07566643 -1.26880801 -0.83141392]\n",
       "   [ 1.39456987  1.00434721 -0.55172437 -1.91535628]\n",
       "   [ 1.23909569 -0.47186446  0.21995898 -1.32468653]]]\n",
       "\n",
       "\n",
       " [[[-0.82786876  0.26907179  0.98942292 -0.02446533]\n",
       "   [-0.66756302  0.23905036 -2.05599999  0.64767373]\n",
       "   [-1.73742187  0.76944667  0.18624565 -1.73760164]\n",
       "   [-1.05700767  0.81189197 -0.25778756  0.3438271 ]]\n",
       "\n",
       "  [[-0.44743389  0.17828314 -0.59729385  0.50023371]\n",
       "   [-0.10838633  0.40956551 -0.3415482   0.05286462]\n",
       "   [-0.76519418  0.16437985 -0.07031316 -0.05629579]\n",
       "   [ 0.01002085 -0.40540293 -0.43000999 -1.54891157]]\n",
       "\n",
       "  [[ 0.48887265 -0.4917309  -0.3310945  -0.47875777]\n",
       "   [ 1.55359995 -0.07519604 -2.01699162 -0.63780481]\n",
       "   [ 0.77119172  0.44951954 -1.25367045  0.39895585]\n",
       "   [-0.45689183 -2.05275273 -0.356033    0.21518119]]]]\n",
       "<NDArray 2x3x4x4 @cpu(0)>"
      ]
     },
     "execution_count": 15,
     "metadata": {},
     "output_type": "execute_result"
    }
   ],
   "source": [
    "x1"
   ]
  },
  {
   "cell_type": "code",
   "execution_count": 16,
   "metadata": {},
   "outputs": [
    {
     "data": {
      "text/plain": [
       "\n",
       "[[[[  6.08782291e-01   9.57827270e-01   5.70302010e-01   2.61995971e-01\n",
       "      8.48698616e-01]\n",
       "   [ -4.48089540e-01  -5.57687879e-03   4.30390209e-01   6.59204245e-01\n",
       "      4.80257630e-01]\n",
       "   [ -1.05258524e-02  -4.44804996e-01  -1.58593625e-01   4.13540900e-01\n",
       "      8.37031364e-01]\n",
       "   [  4.76264834e-01  -3.15101713e-01  -3.20608228e-01   1.43562138e-01\n",
       "      7.61226296e-01]\n",
       "   [ -4.32926238e-01   4.28288341e-01   8.20387721e-01   4.67823982e-01\n",
       "     -9.04950857e-01]]\n",
       "\n",
       "  [[ -7.46840015e-02   5.98233998e-01  -5.27985334e-01  -1.18741214e+00\n",
       "      8.85883629e-01]\n",
       "   [  1.41523325e+00   6.95584834e-01   3.76014709e-02  -5.89985967e-01\n",
       "     -1.21844649e+00]\n",
       "   [  6.18143916e-01   6.57475352e-01   2.76524425e-01  -1.24089986e-01\n",
       "     -1.43749118e-01]\n",
       "   [ -5.90075374e-01   9.34948325e-02   1.24676071e-01   3.07777941e-01\n",
       "      1.44711006e+00]\n",
       "   [ -3.33547831e-01  -1.38676739e+00  -4.82051164e-01   8.03120017e-01\n",
       "      8.91265452e-01]]\n",
       "\n",
       "  [[  3.29045320e+00  -7.56043196e-02   3.48131955e-01   1.27868366e+00\n",
       "     -5.66927195e-01]\n",
       "   [  8.04671884e-01   5.81675887e-01   1.46048963e-02  -5.49923658e-01\n",
       "     -7.65292227e-01]\n",
       "   [  6.85323954e-01   9.51336086e-01   6.48703128e-02  -1.02604592e+00\n",
       "     -1.37338507e+00]\n",
       "   [  1.35570133e+00   8.15396011e-01   1.38245374e-01  -7.11024821e-01\n",
       "     -1.76768887e+00]\n",
       "   [  1.23909569e+00  -4.41244245e-02  -1.25952750e-01  -1.66202396e-01\n",
       "     -1.32468653e+00]]]\n",
       "\n",
       "\n",
       " [[[ -8.27868760e-01  -5.16335666e-03   6.29247367e-01   7.35950887e-01\n",
       "     -2.44653337e-02]\n",
       "   [ -7.07639456e-01   8.00691545e-03  -5.24044216e-01  -8.51073503e-01\n",
       "      4.79638964e-01]\n",
       "   [ -1.20249248e+00   7.75632784e-02  -2.15314329e-01  -8.37398887e-01\n",
       "     -5.44963956e-01]\n",
       "   [ -1.56731832e+00   1.93213925e-01   4.27647650e-01  -2.47883111e-01\n",
       "     -1.21724439e+00]\n",
       "   [ -1.05700767e+00   3.44667047e-01   2.77052224e-01  -1.07383884e-01\n",
       "      3.43827099e-01]]\n",
       "\n",
       "  [[ -4.47433889e-01   2.18538791e-02  -2.09505349e-01  -3.22911978e-01\n",
       "      5.00233710e-01]\n",
       "   [ -1.93148226e-01   2.15521649e-01  -2.68698484e-02  -2.62936741e-01\n",
       "      1.64706886e-01]\n",
       "   [ -4.36790258e-01   1.06031962e-01   4.05209959e-02  -1.54876918e-01\n",
       "     -1.71558186e-03]\n",
       "   [ -5.71390390e-01  -1.26396984e-01  -6.91516101e-02  -2.27540463e-01\n",
       "     -4.29449737e-01]\n",
       "   [  1.00208530e-02  -3.01546991e-01  -4.17706460e-01  -7.09735394e-01\n",
       "     -1.54891157e+00]]\n",
       "\n",
       "  [[  4.88872647e-01  -2.46580005e-01  -4.11412716e-01  -3.68010312e-01\n",
       "     -4.78757769e-01]\n",
       "   [  1.28741813e+00   1.87357217e-01  -8.87423515e-01  -1.34614885e+00\n",
       "     -5.98043084e-01]\n",
       "   [  1.16239583e+00   4.30970311e-01  -7.24084616e-01  -1.25635445e+00\n",
       "     -1.19424477e-01]\n",
       "   [  4.64170873e-01  -1.59936845e-02  -6.02654815e-01  -6.83692753e-01\n",
       "      3.53012204e-01]\n",
       "   [ -4.56891835e-01  -1.65378761e+00  -1.20439291e+00  -2.13229463e-01\n",
       "      2.15181187e-01]]]]\n",
       "<NDArray 2x3x5x5 @cpu(0)>"
      ]
     },
     "execution_count": 16,
     "metadata": {},
     "output_type": "execute_result"
    }
   ],
   "source": [
    "y1"
   ]
  },
  {
   "cell_type": "code",
   "execution_count": 8,
   "metadata": {
    "collapsed": true
   },
   "outputs": [],
   "source": [
    "?nd.UpSampling"
   ]
  },
  {
   "cell_type": "code",
   "execution_count": 10,
   "metadata": {
    "scrolled": true
   },
   "outputs": [
    {
     "ename": "MXNetError",
     "evalue": "[15:55:08] src/c_api/../imperative/imperative_utils.h:322: Check failed: num_inputs == infered_num_inputs (1 vs. 2) Operator UpSampling expects 2 inputs, but got 1 instead.\n\nStack trace returned 10 entries:\n[bt] (0) /home/jiancheng/anaconda3/lib/python3.6/site-packages/mxnet/libmxnet.so(+0x33274a) [0x7fa00795d74a]\n[bt] (1) /home/jiancheng/anaconda3/lib/python3.6/site-packages/mxnet/libmxnet.so(+0x332d71) [0x7fa00795dd71]\n[bt] (2) /home/jiancheng/anaconda3/lib/python3.6/site-packages/mxnet/libmxnet.so(+0x2487de2) [0x7fa009ab2de2]\n[bt] (3) /home/jiancheng/anaconda3/lib/python3.6/site-packages/mxnet/libmxnet.so(+0x248c822) [0x7fa009ab7822]\n[bt] (4) /home/jiancheng/anaconda3/lib/python3.6/site-packages/mxnet/libmxnet.so(MXImperativeInvokeEx+0x6f) [0x7fa009ab7eef]\n[bt] (5) /home/jiancheng/anaconda3/lib/python3.6/lib-dynload/../../libffi.so.6(ffi_call_unix64+0x4c) [0x7fa04cfd2ec0]\n[bt] (6) /home/jiancheng/anaconda3/lib/python3.6/lib-dynload/../../libffi.so.6(ffi_call+0x22d) [0x7fa04cfd287d]\n[bt] (7) /home/jiancheng/anaconda3/lib/python3.6/lib-dynload/_ctypes.cpython-36m-x86_64-linux-gnu.so(_ctypes_callproc+0x2ce) [0x7fa04d1e782e]\n[bt] (8) /home/jiancheng/anaconda3/lib/python3.6/lib-dynload/_ctypes.cpython-36m-x86_64-linux-gnu.so(+0x12265) [0x7fa04d1e8265]\n[bt] (9) /home/jiancheng/anaconda3/bin/python(_PyObject_FastCallDict+0x8b) [0x55d0934a454b]\n\n",
     "output_type": "error",
     "traceback": [
      "\u001b[0;31m---------------------------------------------------------------------------\u001b[0m",
      "\u001b[0;31mMXNetError\u001b[0m                                Traceback (most recent call last)",
      "\u001b[0;32m<ipython-input-10-f0c9bf15255a>\u001b[0m in \u001b[0;36m<module>\u001b[0;34m()\u001b[0m\n\u001b[0;32m----> 1\u001b[0;31m \u001b[0mtemp\u001b[0m \u001b[0;34m=\u001b[0m \u001b[0mnd\u001b[0m\u001b[0;34m.\u001b[0m\u001b[0mUpSampling\u001b[0m\u001b[0;34m(\u001b[0m\u001b[0mxx\u001b[0m\u001b[0;34m,\u001b[0m \u001b[0mnum_filter\u001b[0m\u001b[0;34m=\u001b[0m\u001b[0;36m1\u001b[0m\u001b[0;34m,\u001b[0m \u001b[0mscale\u001b[0m\u001b[0;34m=\u001b[0m\u001b[0;36m2\u001b[0m\u001b[0;34m,\u001b[0m \u001b[0msample_type\u001b[0m\u001b[0;34m=\u001b[0m\u001b[0;34m'bilinear'\u001b[0m\u001b[0;34m,\u001b[0m\u001b[0mname\u001b[0m\u001b[0;34m=\u001b[0m\u001b[0;34m\"upsampling1\"\u001b[0m\u001b[0;34m)\u001b[0m\u001b[0;34m\u001b[0m\u001b[0m\n\u001b[0m",
      "\u001b[0;32m~/anaconda3/lib/python3.6/site-packages/mxnet/ndarray/register.py\u001b[0m in \u001b[0;36mUpSampling\u001b[0;34m(*data, **kwargs)\u001b[0m\n",
      "\u001b[0;32m~/anaconda3/lib/python3.6/site-packages/mxnet/_ctypes/ndarray.py\u001b[0m in \u001b[0;36m_imperative_invoke\u001b[0;34m(handle, ndargs, keys, vals, out)\u001b[0m\n\u001b[1;32m     90\u001b[0m         \u001b[0mc_str_array\u001b[0m\u001b[0;34m(\u001b[0m\u001b[0mkeys\u001b[0m\u001b[0;34m)\u001b[0m\u001b[0;34m,\u001b[0m\u001b[0;34m\u001b[0m\u001b[0m\n\u001b[1;32m     91\u001b[0m         \u001b[0mc_str_array\u001b[0m\u001b[0;34m(\u001b[0m\u001b[0;34m[\u001b[0m\u001b[0mstr\u001b[0m\u001b[0;34m(\u001b[0m\u001b[0ms\u001b[0m\u001b[0;34m)\u001b[0m \u001b[0;32mfor\u001b[0m \u001b[0ms\u001b[0m \u001b[0;32min\u001b[0m \u001b[0mvals\u001b[0m\u001b[0;34m]\u001b[0m\u001b[0;34m)\u001b[0m\u001b[0;34m,\u001b[0m\u001b[0;34m\u001b[0m\u001b[0m\n\u001b[0;32m---> 92\u001b[0;31m         ctypes.byref(out_stypes)))\n\u001b[0m\u001b[1;32m     93\u001b[0m \u001b[0;34m\u001b[0m\u001b[0m\n\u001b[1;32m     94\u001b[0m     \u001b[0;32mif\u001b[0m \u001b[0moriginal_output\u001b[0m \u001b[0;32mis\u001b[0m \u001b[0;32mnot\u001b[0m \u001b[0;32mNone\u001b[0m\u001b[0;34m:\u001b[0m\u001b[0;34m\u001b[0m\u001b[0m\n",
      "\u001b[0;32m~/anaconda3/lib/python3.6/site-packages/mxnet/base.py\u001b[0m in \u001b[0;36mcheck_call\u001b[0;34m(ret)\u001b[0m\n\u001b[1;32m    208\u001b[0m     \"\"\"\n\u001b[1;32m    209\u001b[0m     \u001b[0;32mif\u001b[0m \u001b[0mret\u001b[0m \u001b[0;34m!=\u001b[0m \u001b[0;36m0\u001b[0m\u001b[0;34m:\u001b[0m\u001b[0;34m\u001b[0m\u001b[0m\n\u001b[0;32m--> 210\u001b[0;31m         \u001b[0;32mraise\u001b[0m \u001b[0mMXNetError\u001b[0m\u001b[0;34m(\u001b[0m\u001b[0mpy_str\u001b[0m\u001b[0;34m(\u001b[0m\u001b[0m_LIB\u001b[0m\u001b[0;34m.\u001b[0m\u001b[0mMXGetLastError\u001b[0m\u001b[0;34m(\u001b[0m\u001b[0;34m)\u001b[0m\u001b[0;34m)\u001b[0m\u001b[0;34m)\u001b[0m\u001b[0;34m\u001b[0m\u001b[0m\n\u001b[0m\u001b[1;32m    211\u001b[0m \u001b[0;34m\u001b[0m\u001b[0m\n\u001b[1;32m    212\u001b[0m \u001b[0;34m\u001b[0m\u001b[0m\n",
      "\u001b[0;31mMXNetError\u001b[0m: [15:55:08] src/c_api/../imperative/imperative_utils.h:322: Check failed: num_inputs == infered_num_inputs (1 vs. 2) Operator UpSampling expects 2 inputs, but got 1 instead.\n\nStack trace returned 10 entries:\n[bt] (0) /home/jiancheng/anaconda3/lib/python3.6/site-packages/mxnet/libmxnet.so(+0x33274a) [0x7fa00795d74a]\n[bt] (1) /home/jiancheng/anaconda3/lib/python3.6/site-packages/mxnet/libmxnet.so(+0x332d71) [0x7fa00795dd71]\n[bt] (2) /home/jiancheng/anaconda3/lib/python3.6/site-packages/mxnet/libmxnet.so(+0x2487de2) [0x7fa009ab2de2]\n[bt] (3) /home/jiancheng/anaconda3/lib/python3.6/site-packages/mxnet/libmxnet.so(+0x248c822) [0x7fa009ab7822]\n[bt] (4) /home/jiancheng/anaconda3/lib/python3.6/site-packages/mxnet/libmxnet.so(MXImperativeInvokeEx+0x6f) [0x7fa009ab7eef]\n[bt] (5) /home/jiancheng/anaconda3/lib/python3.6/lib-dynload/../../libffi.so.6(ffi_call_unix64+0x4c) [0x7fa04cfd2ec0]\n[bt] (6) /home/jiancheng/anaconda3/lib/python3.6/lib-dynload/../../libffi.so.6(ffi_call+0x22d) [0x7fa04cfd287d]\n[bt] (7) /home/jiancheng/anaconda3/lib/python3.6/lib-dynload/_ctypes.cpython-36m-x86_64-linux-gnu.so(_ctypes_callproc+0x2ce) [0x7fa04d1e782e]\n[bt] (8) /home/jiancheng/anaconda3/lib/python3.6/lib-dynload/_ctypes.cpython-36m-x86_64-linux-gnu.so(+0x12265) [0x7fa04d1e8265]\n[bt] (9) /home/jiancheng/anaconda3/bin/python(_PyObject_FastCallDict+0x8b) [0x55d0934a454b]\n\n"
     ]
    }
   ],
   "source": [
    "temp = nd.UpSampling(xx, num_filter=1, scale=2, sample_type='bilinear',name=\"upsampling1\")"
   ]
  },
  {
   "cell_type": "code",
   "execution_count": null,
   "metadata": {
    "collapsed": true
   },
   "outputs": [],
   "source": []
  }
 ],
 "metadata": {
  "kernelspec": {
   "display_name": "Python 3",
   "language": "python",
   "name": "python3"
  },
  "language_info": {
   "codemirror_mode": {
    "name": "ipython",
    "version": 3
   },
   "file_extension": ".py",
   "mimetype": "text/x-python",
   "name": "python",
   "nbconvert_exporter": "python",
   "pygments_lexer": "ipython3",
   "version": "3.6.3"
  }
 },
 "nbformat": 4,
 "nbformat_minor": 2
}
