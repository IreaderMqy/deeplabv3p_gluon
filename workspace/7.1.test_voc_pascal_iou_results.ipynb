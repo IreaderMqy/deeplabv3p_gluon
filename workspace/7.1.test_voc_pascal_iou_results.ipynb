{
 "cells": [
  {
   "cell_type": "code",
   "execution_count": 1,
   "metadata": {},
   "outputs": [
    {
     "name": "stderr",
     "output_type": "stream",
     "text": [
      "/home/jiancheng/anaconda3/lib/python3.6/site-packages/urllib3/contrib/pyopenssl.py:46: DeprecationWarning: OpenSSL.rand is deprecated - you should use os.urandom instead\n",
      "  import OpenSSL.SSL\n"
     ]
    }
   ],
   "source": [
    "from mxnet import gluon\n",
    "import mxnet as mx\n",
    "from mxnet import nd\n",
    "from mxnet.gluon import nn \n",
    "import numpy as np\n",
    "from tqdm import tqdm\n",
    "import matplotlib.pyplot as plt\n",
    "import PIL.Image\n",
    "\n",
    "from gluoncv.data import VOCSegmentation\n",
    "from gluoncv.utils.metrics.voc_segmentation import batch_pix_accuracy, batch_intersection_union\n",
    "\n",
    "from mylib.deeplabv3p import DeepLabv3p\n",
    "\n",
    "%matplotlib inline"
   ]
  },
  {
   "cell_type": "code",
   "execution_count": 2,
   "metadata": {
    "collapsed": true
   },
   "outputs": [],
   "source": [
    "class CustomVOCSegmentation(VOCSegmentation):\n",
    "    \n",
    "    def __init__(self, split, size=(512,512)):\n",
    "        super().__init__(split=split)\n",
    "        self.size = size\n",
    "        \n",
    "    def __getitem__(self, index):\n",
    "        img = PIL.Image.open(self.images[index]).convert('RGB')\n",
    "        mask = PIL.Image.open(self.masks[index])\n",
    "        img = img.resize(self.size, PIL.Image.BILINEAR)\n",
    "        mask = mask.resize(self.size, PIL.Image.NEAREST)\n",
    "        img = self._img_transform(img).transpose((2,0,1))/127.5 - 1.\n",
    "        mask = self._mask_transform(mask)\n",
    "        return img, mask"
   ]
  },
  {
   "cell_type": "code",
   "execution_count": 3,
   "metadata": {
    "collapsed": true
   },
   "outputs": [],
   "source": [
    "dataset = CustomVOCSegmentation(split='val', size=(512,512))"
   ]
  },
  {
   "cell_type": "code",
   "execution_count": 4,
   "metadata": {
    "collapsed": true
   },
   "outputs": [],
   "source": [
    "dataloader = gluon.data.DataLoader(dataset, batch_size=8)"
   ]
  },
  {
   "cell_type": "code",
   "execution_count": 5,
   "metadata": {
    "collapsed": true
   },
   "outputs": [],
   "source": [
    "model = DeepLabv3p(OS=8)\n",
    "model.initialize(ctx=mx.gpu())\n",
    "# weights = \"/home/jiancheng/code/segmentation/deeplabv3p_gluon/tmp_weights/pascal_trainval/pascal_trainval.params\"\n",
    "weights = '/home/jiancheng/code/segmentation/deeplabv3p_gluon/tmp_weights/pascal_train_aug/pascal_train_aug.params'\n",
    "model.load_params(filename=weights, ctx=mx.gpu())"
   ]
  },
  {
   "cell_type": "code",
   "execution_count": 6,
   "metadata": {},
   "outputs": [
    {
     "name": "stderr",
     "output_type": "stream",
     "text": [
      "iter181: pix_acc: 0.9411, mIoU: 0.7458: 100%|██████████| 182/182 [05:27<00:00,  1.80s/it]\n"
     ]
    }
   ],
   "source": [
    "tbar = tqdm(dataloader)\n",
    "total_inter, total_union, total_correct, total_label = (0,)*4\n",
    "for i, (x, y) in enumerate(tbar):\n",
    "    x = x.copyto(mx.gpu())\n",
    "    y = y.copyto(mx.gpu())\n",
    "    pred = model(x)\n",
    "    correct, labeled = batch_pix_accuracy(output=pred,target=y)\n",
    "    inter, union = batch_intersection_union(output=pred,target=y,nclass=21)\n",
    "    total_correct += correct.astype('int64')\n",
    "    total_label += labeled.astype('int64')\n",
    "    total_inter += inter.astype('int64')\n",
    "    total_union += union.astype('int64')\n",
    "    pix_acc = np.float64(1.0) * total_correct / (np.spacing(1, dtype=np.float64) + total_label)\n",
    "    IoU = np.float64(1.0) * total_inter / (np.spacing(1, dtype=np.float64) + total_union)\n",
    "    mIoU = IoU.mean()\n",
    "    tbar.set_description('iter%s: pix_acc: %.4f, mIoU: %.4f' % (i, pix_acc, mIoU))"
   ]
  },
  {
   "cell_type": "code",
   "execution_count": 7,
   "metadata": {
    "collapsed": true
   },
   "outputs": [],
   "source": [
    "model = DeepLabv3p(OS=16)\n",
    "model.initialize(ctx=mx.gpu())\n",
    "# weights = \"/home/jiancheng/code/segmentation/deeplabv3p_gluon/tmp_weights/pascal_trainval/pascal_trainval.params\"\n",
    "weights = '/home/jiancheng/code/segmentation/deeplabv3p_gluon/tmp_weights/pascal_train_aug/pascal_train_aug.params'\n",
    "model.load_params(filename=weights, ctx=mx.gpu())"
   ]
  },
  {
   "cell_type": "code",
   "execution_count": 8,
   "metadata": {},
   "outputs": [
    {
     "name": "stderr",
     "output_type": "stream",
     "text": [
      "iter181: pix_acc: 0.9276, mIoU: 0.7054: 100%|██████████| 182/182 [01:35<00:00,  1.90it/s]\n"
     ]
    }
   ],
   "source": [
    "tbar = tqdm(dataloader)\n",
    "total_inter, total_union, total_correct, total_label = (0,)*4\n",
    "for i, (x, y) in enumerate(tbar):\n",
    "    x = x.copyto(mx.gpu())\n",
    "    y = y.copyto(mx.gpu())\n",
    "    pred = model(x)\n",
    "    correct, labeled = batch_pix_accuracy(output=pred,target=y)\n",
    "    inter, union = batch_intersection_union(output=pred,target=y,nclass=21)\n",
    "    total_correct += correct.astype('int64')\n",
    "    total_label += labeled.astype('int64')\n",
    "    total_inter += inter.astype('int64')\n",
    "    total_union += union.astype('int64')\n",
    "    pix_acc = np.float64(1.0) * total_correct / (np.spacing(1, dtype=np.float64) + total_label)\n",
    "    IoU = np.float64(1.0) * total_inter / (np.spacing(1, dtype=np.float64) + total_union)\n",
    "    mIoU = IoU.mean()\n",
    "    tbar.set_description('iter%s: pix_acc: %.4f, mIoU: %.4f' % (i, pix_acc, mIoU))"
   ]
  },
  {
   "cell_type": "code",
   "execution_count": 9,
   "metadata": {
    "collapsed": true
   },
   "outputs": [],
   "source": [
    "model = DeepLabv3p(OS=8)\n",
    "model.initialize(ctx=mx.gpu())\n",
    "weights = \"/home/jiancheng/code/segmentation/deeplabv3p_gluon/tmp_weights/pascal_trainval/pascal_trainval.params\"\n",
    "# weights = '/home/jiancheng/code/segmentation/deeplabv3p_gluon/tmp_weights/pascal_train_aug/pascal_train_aug.params'\n",
    "model.load_params(filename=weights, ctx=mx.gpu())"
   ]
  },
  {
   "cell_type": "code",
   "execution_count": 10,
   "metadata": {},
   "outputs": [
    {
     "name": "stderr",
     "output_type": "stream",
     "text": [
      "iter181: pix_acc: 0.9677, mIoU: 0.8435: 100%|██████████| 182/182 [05:20<00:00,  1.76s/it]\n"
     ]
    }
   ],
   "source": [
    "tbar = tqdm(dataloader)\n",
    "total_inter, total_union, total_correct, total_label = (0,)*4\n",
    "for i, (x, y) in enumerate(tbar):\n",
    "    x = x.copyto(mx.gpu())\n",
    "    y = y.copyto(mx.gpu())\n",
    "    pred = model(x)\n",
    "    correct, labeled = batch_pix_accuracy(output=pred,target=y)\n",
    "    inter, union = batch_intersection_union(output=pred,target=y,nclass=21)\n",
    "    total_correct += correct.astype('int64')\n",
    "    total_label += labeled.astype('int64')\n",
    "    total_inter += inter.astype('int64')\n",
    "    total_union += union.astype('int64')\n",
    "    pix_acc = np.float64(1.0) * total_correct / (np.spacing(1, dtype=np.float64) + total_label)\n",
    "    IoU = np.float64(1.0) * total_inter / (np.spacing(1, dtype=np.float64) + total_union)\n",
    "    mIoU = IoU.mean()\n",
    "    tbar.set_description('iter%s: pix_acc: %.4f, mIoU: %.4f' % (i, pix_acc, mIoU))"
   ]
  },
  {
   "cell_type": "code",
   "execution_count": 11,
   "metadata": {},
   "outputs": [
    {
     "data": {
      "text/plain": [
       "0.84350369696449423"
      ]
     },
     "execution_count": 11,
     "metadata": {},
     "output_type": "execute_result"
    }
   ],
   "source": [
    "IoU.mean()"
   ]
  },
  {
   "cell_type": "code",
   "execution_count": 12,
   "metadata": {},
   "outputs": [
    {
     "data": {
      "text/plain": [
       "array([ 0.96348462,  0.88476809,  0.63088868,  0.82943351,  0.85980665,\n",
       "        0.65059416,  0.88939677,  0.8669595 ,  0.919627  ,  0.69152122,\n",
       "        0.95505052,  0.83846504,  0.9273775 ,  0.90485735,  0.86653745,\n",
       "        0.91636298,  0.68181437,  0.901195  ,  0.7514869 ,  0.89714929,\n",
       "        0.88680102])"
      ]
     },
     "execution_count": 12,
     "metadata": {},
     "output_type": "execute_result"
    }
   ],
   "source": [
    "np.float64(1.0) * total_inter / (np.spacing(1, dtype=np.float64) + total_union)"
   ]
  },
  {
   "cell_type": "code",
   "execution_count": 13,
   "metadata": {},
   "outputs": [
    {
     "data": {
      "text/plain": [
       "0.84350369696449423"
      ]
     },
     "execution_count": 13,
     "metadata": {},
     "output_type": "execute_result"
    }
   ],
   "source": [
    "mIoU"
   ]
  },
  {
   "cell_type": "code",
   "execution_count": null,
   "metadata": {
    "collapsed": true
   },
   "outputs": [],
   "source": []
  },
  {
   "cell_type": "code",
   "execution_count": null,
   "metadata": {
    "collapsed": true
   },
   "outputs": [],
   "source": []
  }
 ],
 "metadata": {
  "kernelspec": {
   "display_name": "Python 3",
   "language": "python",
   "name": "python3"
  },
  "language_info": {
   "codemirror_mode": {
    "name": "ipython",
    "version": 3
   },
   "file_extension": ".py",
   "mimetype": "text/x-python",
   "name": "python",
   "nbconvert_exporter": "python",
   "pygments_lexer": "ipython3",
   "version": "3.6.3"
  }
 },
 "nbformat": 4,
 "nbformat_minor": 2
}
